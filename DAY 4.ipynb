{
 "cells": [
  {
   "cell_type": "code",
   "execution_count": 61,
   "metadata": {},
   "outputs": [
    {
     "name": "stdout",
     "output_type": "stream",
     "text": [
      "enter a string\n",
      "what we think we become. we are programmers.\n",
      "we present at index 5\n",
      "we present at index 14\n",
      "we present at index 25\n"
     ]
    }
   ],
   "source": [
    "s=input(\"enter a string\\n\")\n",
    "sub=\"we\"\n",
    "i=s.find(sub)\n",
    "if i==-1:\n",
    "    print(\"substring not found\")\n",
    "while i!=-1:\n",
    "    print(\"{} present at index {}\".format(sub,i))\n",
    "    i=s.find(sub,i+len(sub),len(s))\n",
    "\n",
    "    \n",
    "    "
   ]
  },
  {
   "cell_type": "code",
   "execution_count": 57,
   "metadata": {},
   "outputs": [
    {
     "name": "stdout",
     "output_type": "stream",
     "text": [
      "enter a string\n",
      "A GK NBFD\n",
      "True\n"
     ]
    }
   ],
   "source": [
    "s=input(\"enter a string\\n\")\n",
    "print(s.isupper())\n"
   ]
  },
  {
   "cell_type": "code",
   "execution_count": 58,
   "metadata": {},
   "outputs": [
    {
     "name": "stdout",
     "output_type": "stream",
     "text": [
      "enter a string\n",
      "AnkjftHJGYUL-*/@%\n",
      "False\n"
     ]
    }
   ],
   "source": [
    "s=input(\"enter a string\\n\")\n",
    "print(s.isupper())\n"
   ]
  },
  {
   "cell_type": "code",
   "execution_count": 59,
   "metadata": {},
   "outputs": [
    {
     "name": "stdout",
     "output_type": "stream",
     "text": [
      "enter a string\n",
      "a  nndj  neha jfkejnfl knd\n",
      "True\n"
     ]
    }
   ],
   "source": [
    "s=input(\"enter a string\\n\")\n",
    "print(s.islower())\n"
   ]
  },
  {
   "cell_type": "code",
   "execution_count": 60,
   "metadata": {},
   "outputs": [
    {
     "name": "stdout",
     "output_type": "stream",
     "text": [
      "enter a string\n",
      "ADFKHjgkj*/-@#%^\n",
      "False\n"
     ]
    }
   ],
   "source": [
    "s=input(\"enter a string\\n\")\n",
    "print(s.islower())\n"
   ]
  },
  {
   "cell_type": "code",
   "execution_count": null,
   "metadata": {},
   "outputs": [],
   "source": []
  }
 ],
 "metadata": {
  "kernelspec": {
   "display_name": "Python 3",
   "language": "python",
   "name": "python3"
  },
  "language_info": {
   "codemirror_mode": {
    "name": "ipython",
    "version": 3
   },
   "file_extension": ".py",
   "mimetype": "text/x-python",
   "name": "python",
   "nbconvert_exporter": "python",
   "pygments_lexer": "ipython3",
   "version": "3.7.6"
  }
 },
 "nbformat": 4,
 "nbformat_minor": 4
}
