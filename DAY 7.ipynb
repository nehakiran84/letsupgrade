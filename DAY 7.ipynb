{
 "cells": [
  {
   "cell_type": "code",
   "execution_count": 3,
   "metadata": {},
   "outputs": [
    {
     "name": "stdout",
     "output_type": "stream",
     "text": [
      "The output: {'AKASH': 41, 'ABHI': 75, 'SURAJ': 80, 'NIHAN': 15}\n"
     ]
    }
   ],
   "source": [
    "#QUESTION 1\n",
    "dict1 = {41:\"AKASH\",75:\"ABHI\",80:\"SURAJ\",15:\"NIHAN\"}\n",
    "dict2 ={value:key for key,value in dict1.items()}\n",
    "print(\"The output:\",dict2)"
   ]
  },
  {
   "cell_type": "code",
   "execution_count": 8,
   "metadata": {},
   "outputs": [
    {
     "name": "stdout",
     "output_type": "stream",
     "text": [
      " sum of tuple: [3, 7, 11, 9]\n"
     ]
    }
   ],
   "source": [
    "#QUESTION 2\n",
    "l1=[(1,2),(3,4),(5,6),(4,5)]\n",
    "l2=[]\n",
    "for each in range(0,len(l1)):\n",
    "    P,Q=l1[each]\n",
    "    l2.append(P+Q)\n",
    "print(\" sum of tuple:\",l2)"
   ]
  },
  {
   "cell_type": "code",
   "execution_count": 10,
   "metadata": {},
   "outputs": [
    {
     "name": "stdout",
     "output_type": "stream",
     "text": [
      "output: [1, 2, 3, 1, 2, 'no', 'hate', 'loss']\n"
     ]
    }
   ],
   "source": [
    "#QUESTION 3\n",
    "list1=[(1,2,3),[1,2],['no','hate','loss']]\n",
    "list2=[]\n",
    "list2=[i for each in list1 for i in each]\n",
    "print (\"output:\",list2)"
   ]
  },
  {
   "cell_type": "code",
   "execution_count": null,
   "metadata": {},
   "outputs": [],
   "source": []
  }
 ],
 "metadata": {
  "kernelspec": {
   "display_name": "Python 3",
   "language": "python",
   "name": "python3"
  },
  "language_info": {
   "codemirror_mode": {
    "name": "ipython",
    "version": 3
   },
   "file_extension": ".py",
   "mimetype": "text/x-python",
   "name": "python",
   "nbconvert_exporter": "python",
   "pygments_lexer": "ipython3",
   "version": "3.7.6"
  }
 },
 "nbformat": 4,
 "nbformat_minor": 4
}
